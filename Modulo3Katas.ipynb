{
 "cells": [
  {
   "cell_type": "markdown",
   "metadata": {},
   "source": [
    "## MODULOS KATAS 3"
   ]
  },
  {
   "cell_type": "markdown",
   "metadata": {},
   "source": [
    "##  Alerta Asteroide"
   ]
  },
  {
   "cell_type": "code",
   "execution_count": null,
   "metadata": {},
   "outputs": [],
   "source": [
    "asteroid = 49\n",
    "if asteroid > 25:\n",
    "    print('¡Se acerca un asteroide a gran velocidad!!')\n",
    "else:\n",
    "    print('¡Todo esta bien!')"
   ]
  },
  {
   "cell_type": "markdown",
   "metadata": {},
   "source": [
    "## asteroide desintegrandose en la atmosfera"
   ]
  },
  {
   "cell_type": "code",
   "execution_count": null,
   "metadata": {},
   "outputs": [],
   "source": [
    "asteroid = 19\n",
    "if asteroid > 20:\n",
    "    print('se observaran haces de luces en el cielo!. Disfruten la vista.')\n",
    "elif asteroid == 20:\n",
    "    print('se observaran haces de luces en el cielo!. Disfruten la vista')\n",
    "else:\n",
    "    print('Falsa alarma, el asteroide se desintegro antes de generar haces de luces.')"
   ]
  },
  {
   "cell_type": "markdown",
   "metadata": {},
   "source": [
    "## ASTEROIDs !!!!!"
   ]
  },
  {
   "cell_type": "code",
   "execution_count": 24,
   "metadata": {},
   "outputs": [
    {
     "name": "stdout",
     "output_type": "stream",
     "text": [
      "¡Alerta, posible evento de extincion. busquen refugio!\n"
     ]
    }
   ],
   "source": [
    "speed_asteroid = 25\n",
    "size_asteroid = 40\n",
    "if speed_asteroid > 25 and size_asteroid > 25:\n",
    "    print('¡Alerta, Evento de extincion!')\n",
    "elif speed_asteroid <= 25 and size_asteroid > 25:\n",
    "    print('¡Alerta, posible evento de extincion. busquen refugio!')\n",
    "elif speed_asteroid >=20 and size_asteroid <25:\n",
    "    print('se observaran haces de luces en el cielo!. Disfruten la vista')\n",
    "elif size_asteroid < 25:\n",
    "    print('nada de que alarmarse!. Manaña sera otro día ')\n",
    "else:\n",
    "    print('El asteroide paso muy cerca del sol. no se observara nada en nuestro cielo.')\n",
    "\n",
    "  "
   ]
  }
 ],
 "metadata": {
  "interpreter": {
   "hash": "916dbcbb3f70747c44a77c7bcd40155683ae19c65e1c03b4aa3499c5328201f1"
  },
  "kernelspec": {
   "display_name": "Python 3.8.10 64-bit",
   "language": "python",
   "name": "python3"
  },
  "language_info": {
   "codemirror_mode": {
    "name": "ipython",
    "version": 3
   },
   "file_extension": ".py",
   "mimetype": "text/x-python",
   "name": "python",
   "nbconvert_exporter": "python",
   "pygments_lexer": "ipython3",
   "version": "3.8.10"
  },
  "orig_nbformat": 4
 },
 "nbformat": 4,
 "nbformat_minor": 2
}
