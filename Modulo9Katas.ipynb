{
 "cells": [
  {
   "cell_type": "code",
   "execution_count": 35,
   "metadata": {},
   "outputs": [],
   "source": [
    "def crea_reporte(tanque1, tanque2, tanquee):  \n",
    "\n",
    "    nofull = 10 \n",
    "\n",
    "    if tanquee < nofull:\n",
    "        dg = 'EMERGENCIA: estado critico en el nivel de combustible en tanque de respaldo; FALLA DE CONTENCIÓN'\n",
    "    else :\n",
    "        dg = 'TANQUE DE RESPALDO NO ESTA LLENO' \n",
    "\n",
    "    promedio_total = (tanque1 + tanque2 + tanquee) / 3\n",
    "\n",
    "    return f\"\"\"Reporte de combustible:\n",
    "    {dg}\n",
    "    Promedio total de combustible: {promedio_total}%\n",
    "    El tanque primario contiene un: {tanque1}% de combustible\n",
    "    El tanque secundario contiene un: {tanque2}% de combustible\n",
    "    El tanque de respaldo contiene un: {tanquee}%  de combustible\n",
    "    \"\"\""
   ]
  },
  {
   "cell_type": "code",
   "execution_count": 36,
   "metadata": {},
   "outputs": [
    {
     "name": "stdout",
     "output_type": "stream",
     "text": [
      "Reporte de combustible:\n",
      "    EMERGENCIA: estado critico en el nivel de combustible en tanque de respaldo; FALLA DE CONTENCIÓN\n",
      "    Promedio total de combustible: 64.66666666666667%\n",
      "    El tanque primario contiene un: 99% de combustible\n",
      "    El tanque secundario contiene un: 90% de combustible\n",
      "    El tanque de respaldo contiene un: 5%  de combustible\n",
      "    \n"
     ]
    }
   ],
   "source": [
    "print(crea_reporte(99, 90, 5))"
   ]
  },
  {
   "cell_type": "code",
   "execution_count": 37,
   "metadata": {},
   "outputs": [],
   "source": [
    "def promedio(x):\n",
    "\n",
    "    suma = sum(x)\n",
    "    div = suma / len(x)\n",
    "\n",
    "    return div"
   ]
  },
  {
   "cell_type": "code",
   "execution_count": 38,
   "metadata": {},
   "outputs": [],
   "source": [
    "def crea_reporte(tanque1, tanque2, tanquee):  \n",
    "\n",
    "    nofull = 10 \n",
    "\n",
    "    if tanquee < nofull:\n",
    "        dg = 'EMERGENCIA: estado critico en el nivel de combustible en tanque de respaldo;FALLA DE CONTENCIÓN'\n",
    "    else :\n",
    "        dg = 'TANQUE DE RESPALDO NO ESTA LLENO' \n",
    "\n",
    "    promedio_total = (tanque1 + tanque2 + tanquee) / 3\n",
    "\n",
    "    return f\"\"\"Reporte de combustible:\n",
    "    {dg}\n",
    "    Promedio total de combustible: {promedio_total}%\n",
    "    El tanque primario contiene un: {tanque1}% de combustible\n",
    "    El tanque secundario contiene un: {tanque2}% de combustible\n",
    "    El tanque de respaldo contiene un: {tanquee}%  de combustible\n",
    "    \"\"\""
   ]
  },
  {
   "cell_type": "code",
   "execution_count": 40,
   "metadata": {},
   "outputs": [
    {
     "name": "stdout",
     "output_type": "stream",
     "text": [
      "Reporte de combustible:\n",
      "    TANQUE DE RESPALDO NO ESTA LLENO\n",
      "    Promedio total de combustible: 51.333333333333336%\n",
      "    El tanque primario contiene un: 37% de combustible\n",
      "    El tanque secundario contiene un: 67% de combustible\n",
      "    El tanque de respaldo contiene un: 50%  de combustible\n",
      "    \n"
     ]
    }
   ],
   "source": [
    "print(crea_reporte(37, 67, 50))"
   ]
  },
  {
   "cell_type": "code",
   "execution_count": 43,
   "metadata": {},
   "outputs": [
    {
     "name": "stdout",
     "output_type": "stream",
     "text": [
      " Informe de lanzadera\n",
      "    ----------------------------------------------------------------------------------------------------\n",
      "    Prelanzamiento: 1500 horas\n",
      "    Conteo prelanzamiento: 3 horas\n",
      "    Tiempo de vuelo: 51 horas\n",
      "    Tiempo total: 54 horas\n",
      "    Destino: Luna\n",
      "    Nivel de combustible de tanque externo: 100 %\n",
      "    Nivel de combustible de tanque interno: 100 %\n",
      "    \n"
     ]
    }
   ],
   "source": [
    "def informe_lanzadera(hrs_prelanzamiento, tmp_prelanzamiento, tmp_vuelo, destino, tanque_pri, tanque_sec ):\n",
    "\n",
    "    return f\"\"\" Informe de lanzadera\n",
    "    {'-'*100}\n",
    "    Prelanzamiento: {hrs_prelanzamiento} horas\n",
    "    Conteo prelanzamiento: {tmp_prelanzamiento} horas\n",
    "    Tiempo de vuelo: {tmp_vuelo} horas\n",
    "    Tiempo total: {tmp_prelanzamiento + tmp_vuelo} horas\n",
    "    Destino: {destino}\n",
    "    Nivel de combustible de tanque externo: {tanque_pri} %\n",
    "    Nivel de combustible de tanque interno: {tanque_sec} %\n",
    "    \"\"\"\n",
    "\n",
    "print(informe_lanzadera(1500, 3, 51, \"Luna\", 100, 100))"
   ]
  },
  {
   "cell_type": "code",
   "execution_count": 47,
   "metadata": {},
   "outputs": [
    {
     "name": "stdout",
     "output_type": "stream",
     "text": [
      "15:00:11\n"
     ]
    }
   ],
   "source": [
    "import time\n",
    "\n",
    "time_string = \"15, 00, 11\"\n",
    "result = time.strptime(time_string, \"%H, %M, %S\")\n",
    "\n",
    "ts = time.strftime(\"%H:%M:%S\", result)\n",
    "\n",
    "print(ts)"
   ]
  },
  {
   "cell_type": "code",
   "execution_count": 48,
   "metadata": {},
   "outputs": [
    {
     "name": "stdout",
     "output_type": "stream",
     "text": [
      " Informe del lanzadera:\n",
      "    ----------------------------------------------------------------------------------------------------\n",
      "    Destino: Luna\n",
      "    Hora de prelanzamiento: 15:00:11 \n",
      "    Tiempo total: 3249 minutos\n",
      "    Reserva de combustible: 99.0 %\n",
      "    \n"
     ]
    }
   ],
   "source": [
    "import time\n",
    "\n",
    "def informe_cohete(hrs_prelanzamiento, destino, *tiempo_total_minutos, **reserva_combustible):\n",
    "\n",
    "    time_string = hrs_prelanzamiento\n",
    "    result = time.strptime(time_string, \"%H, %M, %S\")\n",
    "    ts = time.strftime(\"%H:%M:%S\", result)\n",
    "\n",
    "    return f\"\"\" Informe del lanzadera:\n",
    "    {'-'*100}\n",
    "    Destino: {destino}\n",
    "    Hora de prelanzamiento: {ts} \n",
    "    Tiempo total: {sum(tiempo_total_minutos)} minutos\n",
    "    Reserva de combustible: {sum(reserva_combustible.values())/2} %\n",
    "    \"\"\"\n",
    "\n",
    "print(informe_cohete('15, 00, 11', \"Luna\", 189, 3060, interno = 99, externo = 99))"
   ]
  },
  {
   "cell_type": "code",
   "execution_count": 52,
   "metadata": {},
   "outputs": [
    {
     "name": "stdout",
     "output_type": "stream",
     "text": [
      " Informe de lanzadera:\n",
      "    ----------------------------------------------------------------------------------------------------\n",
      "    Destino: Luna\n",
      "    Hora de prelanzamiento: 13:15:10 \n",
      "    Tiempo total: 3249 minutos\n",
      "    Reserva de combustible: 99.0 %\n",
      "    INFORME -> Tanque interno: 99 % de combustible\n",
      "    INFORME -> Tanque externo: 99 % de combustible\n",
      "    \n"
     ]
    }
   ],
   "source": [
    "import time\n",
    "\n",
    "def informe_cohete(hrs_prelanzamiento, destino, *tiempo_total_minutos, **reserva_combustible):\n",
    "\n",
    "    time_string = hrs_prelanzamiento\n",
    "    result = time.strptime(time_string, \"%H, %M, %S\")\n",
    "    ts = time.strftime(\"%H:%M:%S\", result)\n",
    "\n",
    "    return f\"\"\" Informe de lanzadera:\n",
    "    {'-'*100}\n",
    "    Destino: {destino}\n",
    "    Hora de prelanzamiento: {ts} \n",
    "    Tiempo total: {sum(tiempo_total_minutos)} minutos\n",
    "    Reserva de combustible: {sum(reserva_combustible.values())/2} %\n",
    "    INFORME -> Tanque interno: {reserva_combustible['tanque_pri']} % de combustible\n",
    "    INFORME -> Tanque externo: {reserva_combustible['tanque_sec']} % de combustible\n",
    "    \"\"\"\n",
    "\n",
    "print(informe_cohete('13, 15, 10', \"Luna\", 189, 3060, tanque_pri = 99, tanque_sec = 99))"
   ]
  }
 ],
 "metadata": {
  "interpreter": {
   "hash": "916dbcbb3f70747c44a77c7bcd40155683ae19c65e1c03b4aa3499c5328201f1"
  },
  "kernelspec": {
   "display_name": "Python 3.8.10 64-bit",
   "language": "python",
   "name": "python3"
  },
  "language_info": {
   "codemirror_mode": {
    "name": "ipython",
    "version": 3
   },
   "file_extension": ".py",
   "mimetype": "text/x-python",
   "name": "python",
   "nbconvert_exporter": "python",
   "pygments_lexer": "ipython3",
   "version": "3.8.10"
  },
  "orig_nbformat": 4
 },
 "nbformat": 4,
 "nbformat_minor": 2
}
